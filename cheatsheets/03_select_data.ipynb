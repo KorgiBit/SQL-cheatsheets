{
 "cells": [
  {
   "cell_type": "markdown",
   "id": "808ae372",
   "metadata": {},
   "source": [
    "## 3. Чтение данных (SELECT)"
   ]
  },
  {
   "cell_type": "markdown",
   "id": "f48ee2d6",
   "metadata": {},
   "source": [
    "### 🔍 Чтение данных (SELECT)\n",
    "\n",
    "**Постановка проблемы:**  \n",
    "После того как мы добавили записи в таблицу, важно уметь извлекать из неё нужную информацию. Например: какие книги есть в каталоге, кто автор конкретной книги или какие записи удовлетворяют определённым условиям. Для этого используется команда `SELECT`.\n",
    "\n",
    "**Краткая теория:**  \n",
    "Команда `SELECT` извлекает данные из таблицы. Можно указать, какие столбцы нужны, и какие условия должны быть выполнены.\n",
    "\n",
    "**Синтаксис:**\n",
    "```sql\n",
    "SELECT column1, column2 FROM table_name WHERE condition;\n",
    "```\n",
    "Можно выбирать все столбцы с помощью `*`, сортировать с помощью `ORDER BY`, ограничивать количество строк с `LIMIT`.\n",
    "\n",
    "**Пример:**"
   ]
  },
  {
   "cell_type": "code",
   "execution_count": null,
   "id": "2763b9cd",
   "metadata": {},
   "outputs": [],
   "source": [
    "# SELECT-запросы в SQLite\n",
    "import sqlite3\n",
    "\n",
    "conn = sqlite3.connect(':memory:')\n",
    "cursor = conn.cursor()\n",
    "\n",
    "# Создаём таблицу и добавляем данные\n",
    "cursor.execute('''\n",
    "CREATE TABLE books (\n",
    "    id INTEGER PRIMARY KEY,\n",
    "    title TEXT NOT NULL,\n",
    "    author TEXT,\n",
    "    year INTEGER\n",
    ");\n",
    "''')\n",
    "books = [\n",
    "    (\"1984\", \"George Orwell\", 1949),\n",
    "    (\"The Hobbit\", \"J.R.R. Tolkien\", 1937),\n",
    "    (\"Brave New World\", \"Aldous Huxley\", 1932)\n",
    "]\n",
    "cursor.executemany(\"INSERT INTO books (title, author, year) VALUES (?, ?, ?)\", books)\n",
    "conn.commit()\n",
    "\n",
    "# Вывести все книги\n",
    "cursor.execute(\"SELECT * FROM books\")\n",
    "print(\"📚 Все книги:\")\n",
    "for row in cursor.fetchall():\n",
    "    print(row)\n",
    "\n",
    "# Только названия книг\n",
    "cursor.execute(\"SELECT title FROM books\")\n",
    "print(\"\\n📖 Названия книг:\")\n",
    "for row in cursor.fetchall():\n",
    "    print(row[0])\n",
    "\n",
    "# Книги после 1935 года\n",
    "cursor.execute(\"SELECT title, year FROM books WHERE year > 1935\")\n",
    "print(\"\\n📅 Книги после 1935 года:\")\n",
    "for row in cursor.fetchall():\n",
    "    print(row)"
   ]
  }
 ],
 "metadata": {},
 "nbformat": 4,
 "nbformat_minor": 5
}
