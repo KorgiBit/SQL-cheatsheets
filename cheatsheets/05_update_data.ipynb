{
 "cells": [
  {
   "cell_type": "markdown",
   "id": "fe01cf3b",
   "metadata": {},
   "source": [
    "## 5. Обновление данных (UPDATE)"
   ]
  },
  {
   "cell_type": "markdown",
   "id": "507531cd",
   "metadata": {},
   "source": [
    "### 🔄 Обновление данных (UPDATE)\n",
    "\n",
    "**Постановка проблемы:**  \n",
    "Информация может меняться. Например, автор может изменить название книги, или нужно исправить ошибку в годе. Для этого нужно уметь обновлять данные в таблице. Это делается с помощью команды `UPDATE`.\n",
    "\n",
    "**Краткая теория:**  \n",
    "`UPDATE` изменяет существующие записи. Обычно используется с `WHERE`, чтобы не изменить все строки сразу.\n",
    "\n",
    "**Синтаксис:**\n",
    "```sql\n",
    "UPDATE table_name SET column1 = value1, column2 = value2 WHERE condition;\n",
    "```\n",
    "Если `WHERE` не указать — будут обновлены **все** строки таблицы.\n",
    "\n",
    "**Пример:**"
   ]
  },
  {
   "cell_type": "code",
   "execution_count": null,
   "id": "371e0ae6",
   "metadata": {},
   "outputs": [],
   "source": [
    "# Обновление записей в SQLite\n",
    "import sqlite3\n",
    "\n",
    "conn = sqlite3.connect(':memory:')\n",
    "cursor = conn.cursor()\n",
    "\n",
    "# Создаём таблицу и добавляем данные\n",
    "cursor.execute('''\n",
    "CREATE TABLE books (\n",
    "    id INTEGER PRIMARY KEY,\n",
    "    title TEXT NOT NULL,\n",
    "    author TEXT,\n",
    "    year INTEGER\n",
    ");\n",
    "''')\n",
    "books = [\n",
    "    (\"1984\", \"George Orwell\", 1949),\n",
    "    (\"Brave New World\", \"Aldous Huxley\", 1932)\n",
    "]\n",
    "cursor.executemany(\"INSERT INTO books (title, author, year) VALUES (?, ?, ?)\", books)\n",
    "conn.commit()\n",
    "\n",
    "# Обновим название книги\n",
    "cursor.execute(\"UPDATE books SET title = 'Nineteen Eighty-Four' WHERE title = '1984'\")\n",
    "conn.commit()\n",
    "\n",
    "# Посмотрим результат\n",
    "cursor.execute(\"SELECT * FROM books\")\n",
    "print(\"📘 После обновления:\")\n",
    "for row in cursor.fetchall():\n",
    "    print(row)"
   ]
  }
 ],
 "metadata": {},
 "nbformat": 4,
 "nbformat_minor": 5
}
