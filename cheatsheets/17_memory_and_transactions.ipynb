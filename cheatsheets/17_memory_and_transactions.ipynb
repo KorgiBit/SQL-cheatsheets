{
 "cells": [
  {
   "cell_type": "markdown",
   "id": "a96fe700",
   "metadata": {},
   "source": [
    "## 17. Работа в памяти и транзакции"
   ]
  },
  {
   "cell_type": "markdown",
   "id": "d2bd0542",
   "metadata": {},
   "source": [
    "### 🧠 Работа в памяти и транзакции\n",
    "\n",
    "**Постановка проблемы:**  \n",
    "Иногда база нужна временно — только на время работы программы. Например, для тестов или кэша. Также важно понимать, как работают транзакции: когда изменения сохраняются, а когда откатываются.\n",
    "\n",
    "**Краткая теория:**  \n",
    "- `sqlite3.connect(':memory:')` — создаёт базу в оперативной памяти (после завершения — исчезает)\n",
    "- Все изменения в базе происходят внутри транзакции\n",
    "- По умолчанию транзакция открывается при первом запросе и закрывается при `commit()` или `rollback()`\n",
    "- В `with`-блоке commit/rollback вызываются автоматически\n",
    "\n",
    "**Полезные команды:**\n",
    "- `conn.commit()` — сохранить изменения\n",
    "- `conn.rollback()` — откатить изменения\n",
    "\n",
    "**Пример:**"
   ]
  },
  {
   "cell_type": "code",
   "execution_count": null,
   "id": "5651f542",
   "metadata": {},
   "outputs": [],
   "source": [
    "# Работа с in-memory базой и транзакциями\n",
    "import sqlite3\n",
    "\n",
    "# Работаем в памяти\n",
    "conn = sqlite3.connect(':memory:')\n",
    "cursor = conn.cursor()\n",
    "\n",
    "# Создаём таблицу\n",
    "cursor.execute('''CREATE TABLE notes (id INTEGER PRIMARY KEY, text TEXT)''')\n",
    "\n",
    "# Добавим запись и сделаем commit\n",
    "cursor.execute(\"INSERT INTO notes (text) VALUES ('Сохраняем эту заметку')\")\n",
    "conn.commit()\n",
    "\n",
    "# Добавим ещё одну, но откатим\n",
    "cursor.execute(\"INSERT INTO notes (text) VALUES ('А эту отменим')\")\n",
    "conn.rollback()\n",
    "\n",
    "# Проверим, что осталось\n",
    "cursor.execute(\"SELECT * FROM notes\")\n",
    "print(\"🧾 Заметки после rollback:\")\n",
    "for row in cursor.fetchall():\n",
    "    print(row)\n",
    "\n",
    "# Закрытие соединения\n",
    "conn.close()"
   ]
  }
 ],
 "metadata": {},
 "nbformat": 4,
 "nbformat_minor": 5
}
