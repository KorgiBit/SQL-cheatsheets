{
 "cells": [
  {
   "cell_type": "markdown",
   "id": "c6302c22",
   "metadata": {},
   "source": [
    "## 2. Добавление данных (INSERT INTO)"
   ]
  },
  {
   "cell_type": "markdown",
   "id": "310cb46e",
   "metadata": {},
   "source": [
    "### ➕ Добавление данных (INSERT INTO)\n",
    "\n",
    "**Постановка проблемы:**  \n",
    "Создать таблицу — это только первый шаг. Чтобы она начала приносить пользу, нужно добавить туда данные. Например, добавить новую книгу в каталог, нового пользователя или заказ. Для этого используется команда `INSERT INTO`.\n",
    "\n",
    "**Краткая теория:**  \n",
    "Команда `INSERT INTO` добавляет строку (или несколько) в таблицу. Указываются имена столбцов и значения. Если столбцы не указать, то значения должны идти в том порядке, в каком заданы столбцы при создании таблицы.\n",
    "\n",
    "**Синтаксис:**\n",
    "```sql\n",
    "INSERT INTO table_name (column1, column2, ...) VALUES (value1, value2, ...);\n",
    "```\n",
    "Можно добавить несколько строк сразу:\n",
    "```sql\n",
    "INSERT INTO table_name VALUES\n",
    "  (value1, value2, ...),\n",
    "  (value1, value2, ...);\n",
    "```\n",
    "\n",
    "**Пример:**"
   ]
  },
  {
   "cell_type": "code",
   "execution_count": null,
   "id": "bd4c0517",
   "metadata": {},
   "outputs": [],
   "source": [
    "# Добавление данных в таблицу SQLite\n",
    "import sqlite3\n",
    "\n",
    "conn = sqlite3.connect(':memory:')\n",
    "cursor = conn.cursor()\n",
    "\n",
    "# Создаём таблицу\n",
    "cursor.execute('''\n",
    "CREATE TABLE books (\n",
    "    id INTEGER PRIMARY KEY,\n",
    "    title TEXT NOT NULL,\n",
    "    author TEXT,\n",
    "    year INTEGER\n",
    ");\n",
    "''')\n",
    "\n",
    "# Добавим одну запись\n",
    "cursor.execute(\"INSERT INTO books (title, author, year) VALUES (?, ?, ?)\",\n",
    "               (\"Fahrenheit 451\", \"Ray Bradbury\", 1953))\n",
    "\n",
    "# Добавим несколько записей\n",
    "books = [\n",
    "    (\"The Hobbit\", \"J.R.R. Tolkien\", 1937),\n",
    "    (\"To Kill a Mockingbird\", \"Harper Lee\", 1960)\n",
    "]\n",
    "cursor.executemany(\"INSERT INTO books (title, author, year) VALUES (?, ?, ?)\", books)\n",
    "\n",
    "conn.commit()\n",
    "\n",
    "# Проверим содержимое\n",
    "cursor.execute(\"SELECT * FROM books\")\n",
    "for row in cursor.fetchall():\n",
    "    print(row)"
   ]
  }
 ],
 "metadata": {},
 "nbformat": 4,
 "nbformat_minor": 5
}
