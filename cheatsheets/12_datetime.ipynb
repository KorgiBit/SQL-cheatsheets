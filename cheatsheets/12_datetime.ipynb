{
 "cells": [
  {
   "cell_type": "markdown",
   "id": "aaf7953a",
   "metadata": {},
   "source": [
    "## 12. Работа с датами и временем"
   ]
  },
  {
   "cell_type": "markdown",
   "id": "dfbce4ca",
   "metadata": {},
   "source": [
    "### ⏰ Работа с датами и временем\n",
    "\n",
    "**Постановка проблемы:**  \n",
    "Во многих проектах нужно сохранять, когда произошло событие: дата регистрации, время заказа, дедлайн. SQLite умеет работать с датами и временем с помощью встроенных функций.\n",
    "\n",
    "**Краткая теория:**  \n",
    "SQLite не имеет отдельного типа `DATE` — даты хранятся как `TEXT`, `REAL` или `INTEGER`. Однако SQLite поддерживает функции работы со временем:\n",
    "\n",
    "- `CURRENT_DATE`, `CURRENT_TIME`, `CURRENT_TIMESTAMP`\n",
    "- `datetime(...)`, `date(...)`, `time(...)`, `strftime(...)`\n",
    "- Поддерживаются модификаторы: `'+1 day'`, `'start of month'`, `'localtime'` и т.д.\n",
    "\n",
    "**Синтаксис:**\n",
    "```sql\n",
    "INSERT INTO table_name (created_at) VALUES (CURRENT_TIMESTAMP);\n",
    "SELECT * FROM table_name WHERE date(created_at) = date('now');\n",
    "```\n",
    "\n",
    "**Пример:**"
   ]
  },
  {
   "cell_type": "code",
   "execution_count": null,
   "id": "1b172876",
   "metadata": {},
   "outputs": [],
   "source": [
    "# Работа с датами и временем в SQLite\n",
    "import sqlite3\n",
    "\n",
    "conn = sqlite3.connect(':memory:')\n",
    "cursor = conn.cursor()\n",
    "\n",
    "# Создаём таблицу с датой\n",
    "cursor.execute('''\n",
    "CREATE TABLE events (\n",
    "    id INTEGER PRIMARY KEY AUTOINCREMENT,\n",
    "    name TEXT NOT NULL,\n",
    "    created_at TEXT DEFAULT CURRENT_TIMESTAMP\n",
    ");\n",
    "''')\n",
    "\n",
    "# Добавим события\n",
    "cursor.execute(\"INSERT INTO events (name) VALUES ('Регистрация')\")\n",
    "cursor.execute(\"INSERT INTO events (name, created_at) VALUES (?, datetime('now', '-1 day'))\", (\"Прошлое событие\",))\n",
    "conn.commit()\n",
    "\n",
    "# Покажем все события\n",
    "cursor.execute(\"SELECT id, name, created_at FROM events\")\n",
    "print(\"📅 Список событий:\")\n",
    "for row in cursor.fetchall():\n",
    "    print(row)\n",
    "\n",
    "# Фильтруем по дате (сегодня)\n",
    "cursor.execute(\"SELECT name FROM events WHERE date(created_at) = date('now')\")\n",
    "print(\"\\n📍 Сегодняшние события:\")\n",
    "for row in cursor.fetchall():\n",
    "    print(row[0])"
   ]
  }
 ],
 "metadata": {},
 "nbformat": 4,
 "nbformat_minor": 5
}
