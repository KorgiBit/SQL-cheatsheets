{
 "cells": [
  {
   "cell_type": "markdown",
   "id": "b8f4429e",
   "metadata": {},
   "source": [
    "## 4. Условия WHERE (AND, OR, BETWEEN)"
   ]
  },
  {
   "cell_type": "markdown",
   "id": "eb2c50bd",
   "metadata": {},
   "source": [
    "### ⚙️ Условия WHERE (AND, OR, BETWEEN)\n",
    "\n",
    "**Постановка проблемы:**  \n",
    "Иногда нужно получить не все данные, а только те, что соответствуют определённым условиям. Например: книги после 1950 года, книги определённого автора или книги, выпущенные между 1930 и 1950. Для этого используется ключевое слово `WHERE` с различными логическими операторами.\n",
    "\n",
    "**Краткая теория:**  \n",
    "`WHERE` — это фильтр для строк. Он указывается после `SELECT` и определяет, какие записи попадут в результат. Можно комбинировать условия с помощью `AND`, `OR`, использовать `BETWEEN`, `LIKE`, `IN` и др.\n",
    "\n",
    "**Примеры синтаксиса:**\n",
    "```sql\n",
    "SELECT * FROM books WHERE author = 'George Orwell';\n",
    "SELECT * FROM books WHERE year > 1950 AND author = 'J.R.R. Tolkien';\n",
    "SELECT * FROM books WHERE year BETWEEN 1930 AND 1950;\n",
    "```\n",
    "\n",
    "**Пример:**"
   ]
  },
  {
   "cell_type": "code",
   "execution_count": null,
   "id": "80ae9aff",
   "metadata": {},
   "outputs": [],
   "source": [
    "# Условия WHERE в SQLite\n",
    "import sqlite3\n",
    "\n",
    "conn = sqlite3.connect(':memory:')\n",
    "cursor = conn.cursor()\n",
    "\n",
    "# Создаём таблицу и данные\n",
    "cursor.execute('''\n",
    "CREATE TABLE books (\n",
    "    id INTEGER PRIMARY KEY,\n",
    "    title TEXT NOT NULL,\n",
    "    author TEXT,\n",
    "    year INTEGER\n",
    ");\n",
    "''')\n",
    "books = [\n",
    "    (\"1984\", \"George Orwell\", 1949),\n",
    "    (\"The Hobbit\", \"J.R.R. Tolkien\", 1937),\n",
    "    (\"Brave New World\", \"Aldous Huxley\", 1932),\n",
    "    (\"Animal Farm\", \"George Orwell\", 1945),\n",
    "    (\"The Silmarillion\", \"J.R.R. Tolkien\", 1977)\n",
    "]\n",
    "cursor.executemany(\"INSERT INTO books (title, author, year) VALUES (?, ?, ?)\", books)\n",
    "conn.commit()\n",
    "\n",
    "# Книги Джорджа Оруэлла\n",
    "cursor.execute(\"SELECT title FROM books WHERE author = 'George Orwell'\")\n",
    "print(\"📘 Книги George Orwell:\")\n",
    "for row in cursor.fetchall():\n",
    "    print(row[0])\n",
    "\n",
    "# Книги после 1950 года ИЛИ автор Tolkien\n",
    "cursor.execute(\"SELECT title, year FROM books WHERE year > 1950 OR author = 'J.R.R. Tolkien'\")\n",
    "print(\"\\n📗 После 1950 или Tolkien:\")\n",
    "for row in cursor.fetchall():\n",
    "    print(row)\n",
    "\n",
    "# Книги между 1930 и 1950\n",
    "cursor.execute(\"SELECT title, year FROM books WHERE year BETWEEN 1930 AND 1950\")\n",
    "print(\"\\n📕 Книги между 1930 и 1950:\")\n",
    "for row in cursor.fetchall():\n",
    "    print(row)"
   ]
  }
 ],
 "metadata": {},
 "nbformat": 4,
 "nbformat_minor": 5
}
