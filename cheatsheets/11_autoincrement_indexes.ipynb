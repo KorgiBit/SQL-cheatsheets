{
 "cells": [
  {
   "cell_type": "markdown",
   "id": "7b1c120d",
   "metadata": {},
   "source": [
    "## 11. Автоинкремент и индексы"
   ]
  },
  {
   "cell_type": "markdown",
   "id": "ddb9f73d",
   "metadata": {},
   "source": [
    "### ⚙️ Автоинкремент и индексы\n",
    "\n",
    "**Постановка проблемы:**  \n",
    "Часто нужно, чтобы ID записей создавался автоматически. Кроме того, при большом объёме данных поиск становится медленным — здесь помогают индексы. Важно знать, как использовать `AUTOINCREMENT` и `INDEX`.\n",
    "\n",
    "**Краткая теория:**  \n",
    "- `AUTOINCREMENT` автоматически увеличивает значение `INTEGER PRIMARY KEY`\n",
    "- `CREATE INDEX` создаёт индекс для ускорения поиска по столбцу\n",
    "- Индексы особенно полезны для столбцов, по которым часто выполняются `WHERE`, `ORDER BY`, `JOIN`\n",
    "\n",
    "**Синтаксис:**\n",
    "```sql\n",
    "CREATE TABLE users (\n",
    "    id INTEGER PRIMARY KEY AUTOINCREMENT,\n",
    "    name TEXT\n",
    ");\n",
    "\n",
    "CREATE INDEX idx_name ON users(name);\n",
    "```\n",
    "\n",
    "**Пример:**"
   ]
  },
  {
   "cell_type": "code",
   "execution_count": null,
   "id": "1e07b5b2",
   "metadata": {},
   "outputs": [],
   "source": [
    "# AUTOINCREMENT и INDEX в SQLite\n",
    "import sqlite3\n",
    "\n",
    "conn = sqlite3.connect(':memory:')\n",
    "cursor = conn.cursor()\n",
    "\n",
    "# Создаём таблицу с AUTOINCREMENT\n",
    "cursor.execute('''\n",
    "CREATE TABLE users (\n",
    "    id INTEGER PRIMARY KEY AUTOINCREMENT,\n",
    "    name TEXT NOT NULL\n",
    ");\n",
    "''')\n",
    "cursor.executemany(\"INSERT INTO users (name) VALUES (?)\", [\n",
    "    (\"Alice\",), (\"Bob\",), (\"Charlie\",)\n",
    "])\n",
    "conn.commit()\n",
    "\n",
    "# Создаём индекс по имени\n",
    "cursor.execute(\"CREATE INDEX idx_users_name ON users(name)\")\n",
    "conn.commit()\n",
    "\n",
    "# Проверяем записи\n",
    "cursor.execute(\"SELECT * FROM users\")\n",
    "print(\"👥 Пользователи:\")\n",
    "for row in cursor.fetchall():\n",
    "    print(row)\n",
    "\n",
    "# Проверяем, что индекс работает (через EXPLAIN — необязательно)\n",
    "cursor.execute(\"EXPLAIN QUERY PLAN SELECT * FROM users WHERE name = 'Alice'\")\n",
    "print(\"\\n🔍 План запроса:\")\n",
    "for row in cursor.fetchall():\n",
    "    print(row)"
   ]
  }
 ],
 "metadata": {},
 "nbformat": 4,
 "nbformat_minor": 5
}
