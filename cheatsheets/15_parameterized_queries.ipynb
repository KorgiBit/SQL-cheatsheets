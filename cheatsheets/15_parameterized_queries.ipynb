{
 "cells": [
  {
   "cell_type": "markdown",
   "id": "912d106d",
   "metadata": {},
   "source": [
    "## 15. Параметризованные запросы"
   ]
  },
  {
   "cell_type": "markdown",
   "id": "1a2fd542",
   "metadata": {},
   "source": [
    "### 🔐 Параметризованные запросы\n",
    "\n",
    "**Постановка проблемы:**  \n",
    "Нельзя подставлять значения прямо в SQL-строку через f-строки — это небезопасно и может привести к SQL-инъекциям. Вместо этого нужно использовать параметризованные запросы.\n",
    "\n",
    "**Краткая теория:**  \n",
    "Параметры передаются отдельно от SQL-запроса. Это безопасно и удобно:\n",
    "\n",
    "- Используется знак `?` как placeholder\n",
    "- Значения передаются в виде кортежа или списка\n",
    "- Также поддерживается `executemany()` для массовых вставок\n",
    "\n",
    "**Пример синтаксиса:**\n",
    "```python\n",
    "cursor.execute(\"SELECT * FROM users WHERE name = ?\", (\"Alice\",))\n",
    "```\n",
    "\n",
    "**Пример:**"
   ]
  },
  {
   "cell_type": "code",
   "execution_count": null,
   "id": "44d5ee94",
   "metadata": {},
   "outputs": [],
   "source": [
    "# Параметризованные запросы в SQLite\n",
    "import sqlite3\n",
    "\n",
    "conn = sqlite3.connect(':memory:')\n",
    "cursor = conn.cursor()\n",
    "\n",
    "# Создаём таблицу\n",
    "cursor.execute('''\n",
    "CREATE TABLE users (\n",
    "    id INTEGER PRIMARY KEY,\n",
    "    name TEXT,\n",
    "    age INTEGER\n",
    ");\n",
    "''')\n",
    "\n",
    "# Вставка параметров\n",
    "cursor.execute(\"INSERT INTO users (name, age) VALUES (?, ?)\", (\"Alice\", 30))\n",
    "cursor.executemany(\"INSERT INTO users (name, age) VALUES (?, ?)\", [\n",
    "    (\"Bob\", 25),\n",
    "    (\"Charlie\", 35)\n",
    "])\n",
    "conn.commit()\n",
    "\n",
    "# Поиск по имени с параметром\n",
    "name_to_search = \"Bob\"\n",
    "cursor.execute(\"SELECT * FROM users WHERE name = ?\", (name_to_search,))\n",
    "print(\"🔍 Пользователь по имени 'Bob':\")\n",
    "for row in cursor.fetchall():\n",
    "    print(row)"
   ]
  }
 ],
 "metadata": {},
 "nbformat": 4,
 "nbformat_minor": 5
}
