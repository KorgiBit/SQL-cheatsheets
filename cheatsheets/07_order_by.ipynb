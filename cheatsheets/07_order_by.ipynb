{
 "cells": [
  {
   "cell_type": "markdown",
   "id": "261c2689",
   "metadata": {},
   "source": [
    "## 7. Сортировка (ORDER BY)"
   ]
  },
  {
   "cell_type": "markdown",
   "id": "820a9987",
   "metadata": {},
   "source": [
    "### 📊 Сортировка (ORDER BY)\n",
    "\n",
    "**Постановка проблемы:**  \n",
    "Когда выводится список записей, важно уметь управлять их порядком. Например, отсортировать книги по году выпуска или по алфавиту. Для этого используется ключевое слово `ORDER BY`.\n",
    "\n",
    "**Краткая теория:**  \n",
    "`ORDER BY` сортирует результат по одному или нескольким столбцам. По умолчанию сортировка идёт по возрастанию (`ASC`). Для обратного порядка используют `DESC`.\n",
    "\n",
    "**Синтаксис:**\n",
    "```sql\n",
    "SELECT * FROM table_name ORDER BY column_name ASC|DESC;\n",
    "```\n",
    "Можно сортировать по нескольким столбцам: `ORDER BY author ASC, year DESC`\n",
    "\n",
    "**Пример:**"
   ]
  },
  {
   "cell_type": "code",
   "execution_count": null,
   "id": "8be50ab0",
   "metadata": {},
   "outputs": [],
   "source": [
    "# Сортировка результатов в SQLite\n",
    "import sqlite3\n",
    "\n",
    "conn = sqlite3.connect(':memory:')\n",
    "cursor = conn.cursor()\n",
    "\n",
    "# Создаём таблицу и данные\n",
    "cursor.execute('''\n",
    "CREATE TABLE books (\n",
    "    id INTEGER PRIMARY KEY,\n",
    "    title TEXT NOT NULL,\n",
    "    author TEXT,\n",
    "    year INTEGER\n",
    ");\n",
    "''')\n",
    "books = [\n",
    "    (\"Brave New World\", \"Aldous Huxley\", 1932),\n",
    "    (\"1984\", \"George Orwell\", 1949),\n",
    "    (\"Animal Farm\", \"George Orwell\", 1945),\n",
    "    (\"The Hobbit\", \"J.R.R. Tolkien\", 1937)\n",
    "]\n",
    "cursor.executemany(\"INSERT INTO books (title, author, year) VALUES (?, ?, ?)\", books)\n",
    "conn.commit()\n",
    "\n",
    "# Сортировка по году (по возрастанию)\n",
    "cursor.execute(\"SELECT title, year FROM books ORDER BY year ASC\")\n",
    "print(\"📘 По году (ASC):\")\n",
    "for row in cursor.fetchall():\n",
    "    print(row)\n",
    "\n",
    "# Сортировка по автору (по алфавиту)\n",
    "cursor.execute(\"SELECT title, author FROM books ORDER BY author\")\n",
    "print(\"\\n📗 По автору (ASC):\")\n",
    "for row in cursor.fetchall():\n",
    "    print(row)\n",
    "\n",
    "# Сортировка по году (по убыванию)\n",
    "cursor.execute(\"SELECT title, year FROM books ORDER BY year DESC\")\n",
    "print(\"\\n📕 По году (DESC):\")\n",
    "for row in cursor.fetchall():\n",
    "    print(row)"
   ]
  }
 ],
 "metadata": {},
 "nbformat": 4,
 "nbformat_minor": 5
}
