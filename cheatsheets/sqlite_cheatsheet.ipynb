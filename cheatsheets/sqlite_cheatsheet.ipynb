{
 "cells": [
  {
   "cell_type": "markdown",
   "id": "8ddfae94",
   "metadata": {},
   "source": [
    "# 📘 Шпаргалка: Работа с SQLite3 в Python для начинающих"
   ]
  },
  {
   "cell_type": "markdown",
   "id": "151718bf",
   "metadata": {},
   "source": [
    "\n",
    "Добро пожаловать! В этой шпаргалке мы подробно разберем, как работать с базами данных SQLite3 на Python. \n",
    "Всё объясняется простым языком, с примерами и полезными комментариями — чтобы ты мог сразу применять знания на практике.\n"
   ]
  },
  {
   "cell_type": "markdown",
   "id": "31c619c4",
   "metadata": {},
   "source": [
    "## 1. Основы запросов SQL (SQLite3)"
   ]
  },
  {
   "cell_type": "markdown",
   "id": "d65fc544",
   "metadata": {},
   "source": [
    "\n",
    "### 🧩 Создание таблиц (CREATE TABLE)\n",
    "\n",
    "**Постановка проблемы:**  \n",
    "Любая база данных начинается с таблиц. Чтобы хранить информацию, нам нужно задать структуру: какие поля, какие типы данных, какие ограничения.\n",
    "\n",
    "**Краткая теория:**  \n",
    "Команда `CREATE TABLE` создаёт таблицу с заданными столбцами. Обычно указываются типы данных и ключевые ограничения.\n",
    "\n",
    "**Примеры:**\n",
    "```sql\n",
    "CREATE TABLE users (\n",
    "    id INTEGER PRIMARY KEY AUTOINCREMENT,\n",
    "    name TEXT NOT NULL,\n",
    "    age INTEGER CHECK(age >= 0)\n",
    ");\n",
    "```\n",
    "\n",
    "Создаётся таблица `users` с автоинкрементируемым ID, обязательным именем и проверкой, что возраст неотрицательный.\n"
   ]
  },
  {
   "cell_type": "markdown",
   "id": "dba6f605",
   "metadata": {},
   "source": [
    "\n",
    "### ➕ Добавление данных (INSERT INTO)\n",
    "\n",
    "**Постановка проблемы:**  \n",
    "Чтобы таблица не была пустой, нужно заносить в неё записи.\n",
    "\n",
    "**Краткая теория:**  \n",
    "`INSERT INTO` добавляет строку в таблицу. Можно указать только нужные поля.\n",
    "\n",
    "**Примеры:**\n",
    "```sql\n",
    "INSERT INTO users (name, age)\n",
    "VALUES ('Аня', 14),\n",
    "       ('Борис', 16);\n",
    "```\n"
   ]
  },
  {
   "cell_type": "markdown",
   "id": "2056f66c",
   "metadata": {},
   "source": [
    "\n",
    "### 🔍 Чтение данных (SELECT)\n",
    "\n",
    "**Постановка проблемы:**  \n",
    "Когда данные уже в таблице, нужно уметь их извлекать.\n",
    "\n",
    "**Краткая теория:**  \n",
    "`SELECT` позволяет выбрать нужные строки. Можно выбрать все (`*`), или конкретные столбцы.\n",
    "\n",
    "**Примеры:**\n",
    "```sql\n",
    "-- Все данные\n",
    "SELECT * FROM users;\n",
    "\n",
    "-- Только имена\n",
    "SELECT name FROM users;\n",
    "\n",
    "-- Только тех, кто старше 15\n",
    "SELECT * FROM users WHERE age > 15;\n",
    "```\n"
   ]
  },
  {
   "cell_type": "code",
   "execution_count": null,
   "id": "bdf51338",
   "metadata": {},
   "outputs": [],
   "source": [
    "import sqlite3\n",
    "\n",
    "# Подключаемся к БД (создаётся файл, если его нет)\n",
    "connection = sqlite3.connect(\"example.db\")\n",
    "cursor = connection.cursor()\n",
    "\n",
    "# Создаём таблицу\n",
    "cursor.execute(\"\"\"\n",
    "CREATE TABLE IF NOT EXISTS users (\n",
    "    id INTEGER PRIMARY KEY AUTOINCREMENT,\n",
    "    name TEXT NOT NULL,\n",
    "    age INTEGER\n",
    ")\n",
    "\"\"\")\n",
    "\n",
    "# Добавляем данные\n",
    "cursor.executemany(\"INSERT INTO users (name, age) VALUES (?, ?)\", [\n",
    "    ('Анна', 14),\n",
    "    ('Борис', 16),\n",
    "    ('Вика', 13),\n",
    "])\n",
    "\n",
    "# Сохраняем изменения\n",
    "connection.commit()\n",
    "\n",
    "# Читаем данные\n",
    "cursor.execute(\"SELECT * FROM users\")\n",
    "for row in cursor.fetchall():\n",
    "    print(row)\n",
    "\n",
    "# Закрываем соединение\n",
    "connection.close()\n"
   ]
  }
 ],
 "metadata": {},
 "nbformat": 4,
 "nbformat_minor": 5
}
