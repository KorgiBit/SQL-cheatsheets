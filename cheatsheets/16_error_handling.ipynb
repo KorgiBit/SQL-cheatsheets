{
 "cells": [
  {
   "cell_type": "markdown",
   "id": "812eb84f",
   "metadata": {},
   "source": [
    "## 16. Обработка ошибок и with"
   ]
  },
  {
   "cell_type": "markdown",
   "id": "f25b6ceb",
   "metadata": {},
   "source": [
    "### 🧯 Обработка ошибок и with\n",
    "\n",
    "**Постановка проблемы:**  \n",
    "При работе с базой может произойти ошибка: нарушено ограничение, синтаксическая ошибка, база недоступна. Важно уметь обрабатывать такие случаи безопасно и закрывать соединение корректно.\n",
    "\n",
    "**Краткая теория:**  \n",
    "- Все ошибки SQLite в Python попадают под `sqlite3.Error`\n",
    "- Часто используют `try ... except` для перехвата ошибок\n",
    "- Чтобы не забыть закрыть соединение, применяют `with sqlite3.connect(...) as conn:` — это автоматически вызовет `commit()` или `rollback()`\n",
    "\n",
    "**Пример:**"
   ]
  },
  {
   "cell_type": "code",
   "execution_count": null,
   "id": "7169e7f5",
   "metadata": {},
   "outputs": [],
   "source": [
    "# Обработка ошибок и использование with\n",
    "import sqlite3\n",
    "\n",
    "try:\n",
    "    with sqlite3.connect(':memory:') as conn:\n",
    "        cursor = conn.cursor()\n",
    "        cursor.execute('''\n",
    "        CREATE TABLE users (\n",
    "            id INTEGER PRIMARY KEY,\n",
    "            name TEXT UNIQUE\n",
    "        );\n",
    "        ''')\n",
    "        cursor.execute(\"INSERT INTO users (name) VALUES (?)\", (\"Alice\",))\n",
    "        cursor.execute(\"INSERT INTO users (name) VALUES (?)\", (\"Bob\",))\n",
    "\n",
    "        # Пытаемся вставить дубликат — вызовет ошибку\n",
    "        cursor.execute(\"INSERT INTO users (name) VALUES (?)\", (\"Alice\",))\n",
    "\n",
    "except sqlite3.IntegrityError as e:\n",
    "    print(\"⛔ Нарушено ограничение уникальности:\", e)\n",
    "\n",
    "except sqlite3.Error as e:\n",
    "    print(\"❗ Ошибка базы данных:\", e)\n",
    "\n",
    "else:\n",
    "    print(\"✅ Всё прошло успешно\")\n",
    "\n",
    "# Повторное подключение, чтобы показать содержимое\n",
    "with sqlite3.connect(':memory:') as conn:\n",
    "    print(\"\\nℹ️ Эта база пуста, потому что была в памяти и закрылась после with\")"
   ]
  }
 ],
 "metadata": {},
 "nbformat": 4,
 "nbformat_minor": 5
}
