{
 "cells": [
  {
   "cell_type": "markdown",
   "id": "282b71e1",
   "metadata": {},
   "source": [
    "## 1. Создание таблиц (CREATE TABLE)"
   ]
  },
  {
   "cell_type": "markdown",
   "id": "40c14cab",
   "metadata": {},
   "source": [
    "### 🧩 Создание таблиц (CREATE TABLE)\n",
    "\n",
    "**Постановка проблемы:**  \n",
    "Любая база данных начинается с таблиц. Они определяют структуру хранения: какие будут столбцы, какие типы данных, какие ограничения. Без таблиц невозможно сохранить ни одной строки данных.\n",
    "\n",
    "**Краткая теория:**  \n",
    "Команда `CREATE TABLE` используется для создания новой таблицы в базе. Указывается имя таблицы и список столбцов с их типами данных.\n",
    "\n",
    "**Пример синтаксиса:**\n",
    "```sql\n",
    "CREATE TABLE books (\n",
    "    id INTEGER PRIMARY KEY,\n",
    "    title TEXT NOT NULL,\n",
    "    author TEXT,\n",
    "    year INTEGER\n",
    ");\n",
    "```\n",
    "Типы данных в SQLite:\n",
    "- `INTEGER` — целые числа\n",
    "- `REAL` — числа с плавающей точкой\n",
    "- `TEXT` — строки\n",
    "- `BLOB` — бинарные данные\n",
    "- `NULL` — отсутствие значения\n",
    "\n",
    "**Пример:**"
   ]
  },
  {
   "cell_type": "code",
   "execution_count": null,
   "id": "3a35b7b6",
   "metadata": {},
   "outputs": [],
   "source": [
    "# Работаем с SQLite3\n",
    "import sqlite3\n",
    "\n",
    "# Создаём временную БД в памяти\n",
    "conn = sqlite3.connect(':memory:')\n",
    "cursor = conn.cursor()\n",
    "\n",
    "# Создаём таблицу\n",
    "cursor.execute('''\n",
    "CREATE TABLE books (\n",
    "    id INTEGER PRIMARY KEY,\n",
    "    title TEXT NOT NULL,\n",
    "    author TEXT,\n",
    "    year INTEGER\n",
    ");\n",
    "''')\n",
    "\n",
    "# Добавим данные\n",
    "cursor.execute(\"INSERT INTO books (title, author, year) VALUES (?, ?, ?)\",\n",
    "               (\"1984\", \"George Orwell\", 1949))\n",
    "cursor.execute(\"INSERT INTO books (title, author, year) VALUES (?, ?, ?)\",\n",
    "               (\"Brave New World\", \"Aldous Huxley\", 1932))\n",
    "conn.commit()\n",
    "\n",
    "# Посмотрим таблицу\n",
    "cursor.execute(\"SELECT * FROM books\")\n",
    "for row in cursor.fetchall():\n",
    "    print(row)"
   ]
  }
 ],
 "metadata": {},
 "nbformat": 4,
 "nbformat_minor": 5
}
