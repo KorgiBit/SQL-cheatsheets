{
 "cells": [
  {
   "cell_type": "markdown",
   "id": "e9ec5b35",
   "metadata": {},
   "source": [
    "## 18. Нормализация: 1NF"
   ]
  },
  {
   "cell_type": "markdown",
   "id": "002f548c",
   "metadata": {},
   "source": [
    "### 🧮 Нормализация: 1NF (Первая нормальная форма)\n",
    "\n",
    "**Постановка проблемы:**  \n",
    "Если хранить в одной ячейке список значений (например, все телефоны клиента через запятую), то будет трудно искать, фильтровать и связывать данные. Первая нормальная форма требует избавиться от повторяющихся групп.\n",
    "\n",
    "**Краткая теория:**  \n",
    "Таблица находится в **1NF**, если:\n",
    "- Все поля атомарны (одно значение на ячейку)\n",
    "- Нет повторяющихся столбцов\n",
    "- Каждая строка уникальна\n",
    "\n",
    "Для этого часто нужно **разделить таблицу** на несколько связанных: например, клиентов и их телефоны.\n",
    "\n",
    "**Пример:**"
   ]
  },
  {
   "cell_type": "code",
   "execution_count": null,
   "id": "3eaf0e61",
   "metadata": {},
   "outputs": [],
   "source": [
    "# Демонстрация 1NF в SQLite\n",
    "import sqlite3\n",
    "\n",
    "# Нарушение 1NF: телефоны через запятую\n",
    "conn = sqlite3.connect(':memory:')\n",
    "cursor = conn.cursor()\n",
    "cursor.execute('''CREATE TABLE bad_clients (\n",
    "    id INTEGER PRIMARY KEY,\n",
    "    name TEXT,\n",
    "    phones TEXT  -- нарушение: список телефонов через запятую\n",
    ")''')\n",
    "cursor.execute(\"INSERT INTO bad_clients (name, phones) VALUES (?, ?)\", (\"Анна\", \"+7900,+7901\"))\n",
    "cursor.execute(\"SELECT * FROM bad_clients\")\n",
    "print(\"🚫 Нарушение 1NF:\")\n",
    "for row in cursor.fetchall():\n",
    "    print(row)\n",
    "\n",
    "# Решение: выносим телефоны в отдельную таблицу\n",
    "cursor.execute(\"DROP TABLE bad_clients\")\n",
    "cursor.execute(\"CREATE TABLE clients (id INTEGER PRIMARY KEY, name TEXT)\")\n",
    "cursor.execute(\"CREATE TABLE phones (\n",
    "    id INTEGER PRIMARY KEY,\n",
    "    client_id INTEGER,\n",
    "    phone TEXT,\n",
    "    FOREIGN KEY (client_id) REFERENCES clients(id)\n",
    ")\")\n",
    "cursor.execute(\"INSERT INTO clients (name) VALUES ('Анна')\")\n",
    "client_id = cursor.lastrowid\n",
    "cursor.executemany(\"INSERT INTO phones (client_id, phone) VALUES (?, ?)\", [\n",
    "    (client_id, \"+7900\"),\n",
    "    (client_id, \"+7901\")\n",
    "])\n",
    "conn.commit()\n",
    "\n",
    "# Проверим результат\n",
    "print(\"\\n✅ В нормальной форме:\")\n",
    "cursor.execute(\"SELECT c.name, p.phone FROM clients c JOIN phones p ON c.id = p.client_id\")\n",
    "for row in cursor.fetchall():\n",
    "    print(row)"
   ]
  }
 ],
 "metadata": {},
 "nbformat": 4,
 "nbformat_minor": 5
}
