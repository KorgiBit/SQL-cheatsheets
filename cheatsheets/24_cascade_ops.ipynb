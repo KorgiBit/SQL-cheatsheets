{
 "cells": [
  {
   "cell_type": "markdown",
   "id": "744a8a4a",
   "metadata": {},
   "source": [
    "## 24. Каскадные операции"
   ]
  },
  {
   "cell_type": "markdown",
   "id": "bd597b13",
   "metadata": {},
   "source": [
    "### 🧷 Каскадные операции\n",
    "\n",
    "**Постановка проблемы:**  \n",
    "Если удалить родителя, но не удалить зависимые строки — в базе останется \"мусор\". Или наоборот — нельзя будет удалить из-за ограничений. Каскадные операции (`ON DELETE CASCADE`) решают эту проблему.\n",
    "\n",
    "**Краткая теория:**  \n",
    "`CASCADE` означает, что при удалении или обновлении строки в родительской таблице автоматически изменяются/удаляются строки в дочерней.\n",
    "\n",
    "- `ON DELETE CASCADE` — удалить все дочерние строки\n",
    "- `ON UPDATE CASCADE` — обновить внешний ключ в дочерней таблице\n",
    "\n",
    "Применяется в `FOREIGN KEY` при создании таблицы.\n",
    "\n",
    "**Пример:**"
   ]
  },
  {
   "cell_type": "code",
   "execution_count": null,
   "id": "d1f2eaaf",
   "metadata": {},
   "outputs": [],
   "source": [
    "# Каскадное удаление в SQLite\n",
    "import sqlite3\n",
    "conn = sqlite3.connect(':memory:')\n",
    "conn.execute(\"PRAGMA foreign_keys = ON\")  # Включаем поддержку внешних ключей\n",
    "cursor = conn.cursor()\n",
    "\n",
    "# Родительская таблица\n",
    "cursor.execute('''CREATE TABLE authors (\n",
    "    id INTEGER PRIMARY KEY,\n",
    "    name TEXT\n",
    ")''')\n",
    "# Дочерняя таблица с каскадом\n",
    "cursor.execute('''CREATE TABLE books (\n",
    "    id INTEGER PRIMARY KEY,\n",
    "    title TEXT,\n",
    "    author_id INTEGER,\n",
    "    FOREIGN KEY (author_id) REFERENCES authors(id) ON DELETE CASCADE\n",
    ")''')\n",
    "# Добавим автора и книги\n",
    "cursor.execute(\"INSERT INTO authors (name) VALUES ('Толстой')\")\n",
    "author_id = cursor.lastrowid\n",
    "cursor.executemany(\"INSERT INTO books (title, author_id) VALUES (?, ?)\", [\n",
    "    (\"Война и мир\", author_id),\n",
    "    (\"Анна Каренина\", author_id)\n",
    "])\n",
    "conn.commit()\n",
    "# Удаляем автора\n",
    "cursor.execute(\"DELETE FROM authors WHERE id = ?\", (author_id,))\n",
    "conn.commit()\n",
    "# Проверяем, удалились ли книги\n",
    "cursor.execute(\"SELECT * FROM books\")\n",
    "print(\"📕 Книги после удаления автора:\")\n",
    "print(cursor.fetchall())"
   ]
  }
 ],
 "metadata": {},
 "nbformat": 4,
 "nbformat_minor": 5
}
