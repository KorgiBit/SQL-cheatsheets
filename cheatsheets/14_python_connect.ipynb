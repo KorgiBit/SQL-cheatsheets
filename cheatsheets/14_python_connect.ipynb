{
 "cells": [
  {
   "cell_type": "markdown",
   "id": "3ec5e56b",
   "metadata": {},
   "source": [
    "## 14. SQLite + Python: подключение, cursor, execute"
   ]
  },
  {
   "cell_type": "markdown",
   "id": "b2eeab8a",
   "metadata": {},
   "source": [
    "### 🐍 SQLite + Python: подключение, cursor, execute\n",
    "\n",
    "**Постановка проблемы:**  \n",
    "SQLite — это встроенная база данных, и Python умеет работать с ней \"из коробки\". Нужно понять, как подключаться к базе, выполнять SQL-запросы и получать результаты. Это основа любого проекта с базой.\n",
    "\n",
    "**Краткая теория:**  \n",
    "- `sqlite3.connect()` — подключение к базе (файл или временная в памяти)\n",
    "- `cursor()` — объект для выполнения SQL-запросов\n",
    "- `execute()` — выполнение одного запроса\n",
    "- `executemany()` — выполнение одного запроса с разными параметрами\n",
    "- `fetchall()`, `fetchone()` — получение результата\n",
    "- `commit()` — сохранение изменений\n",
    "\n",
    "**Пример:**"
   ]
  },
  {
   "cell_type": "code",
   "execution_count": null,
   "id": "9665e652",
   "metadata": {},
   "outputs": [],
   "source": [
    "# Работа с SQLite в Python\n",
    "import sqlite3\n",
    "\n",
    "# Подключение к файлу (или :memory: для временной БД)\n",
    "conn = sqlite3.connect(':memory:')\n",
    "cursor = conn.cursor()\n",
    "\n",
    "# Создание таблицы\n",
    "cursor.execute('''\n",
    "CREATE TABLE users (\n",
    "    id INTEGER PRIMARY KEY,\n",
    "    name TEXT\n",
    ");\n",
    "''')\n",
    "\n",
    "# Добавление записей\n",
    "cursor.execute(\"INSERT INTO users (name) VALUES ('Alice')\")\n",
    "cursor.executemany(\"INSERT INTO users (name) VALUES (?)\", [(\"Bob\",), (\"Charlie\",)])\n",
    "conn.commit()\n",
    "\n",
    "# Получение всех записей\n",
    "cursor.execute(\"SELECT * FROM users\")\n",
    "print(\"👥 Список пользователей:\")\n",
    "for row in cursor.fetchall():\n",
    "    print(row)\n",
    "\n",
    "# Закрытие соединения\n",
    "conn.close()"
   ]
  }
 ],
 "metadata": {},
 "nbformat": 4,
 "nbformat_minor": 5
}
