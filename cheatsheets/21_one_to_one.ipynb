{
 "cells": [
  {
   "cell_type": "markdown",
   "id": "57f8600b",
   "metadata": {},
   "source": [
    "## 21. Связи один-к-одному"
   ]
  },
  {
   "cell_type": "markdown",
   "id": "1b99c7f8",
   "metadata": {},
   "source": [
    "### 🔗 Связи один-к-одному\n",
    "\n",
    "**Постановка проблемы:**  \n",
    "Иногда каждой записи в таблице соответствует ровно одна запись в другой таблице. Например, у каждого пользователя есть один паспорт, и у каждого паспорта — один владелец. Это связь \"один-к-одному\".\n",
    "\n",
    "**Краткая теория:**  \n",
    "Связь \"один-к-одному\" реализуется так же, как и \"один-ко-многим\", но с добавлением `UNIQUE` на внешний ключ. То есть:\n",
    "\n",
    "- В одной из таблиц внешний ключ (`FOREIGN KEY`), который также `UNIQUE`\n",
    "- Или обе таблицы ссылаются друг на друга по `PRIMARY KEY`\n",
    "\n",
    "**Пример:**"
   ]
  },
  {
   "cell_type": "code",
   "execution_count": null,
   "id": "8f9d17fb",
   "metadata": {},
   "outputs": [],
   "source": [
    "# Связь один-к-одному в SQLite\n",
    "import sqlite3\n",
    "conn = sqlite3.connect(':memory:')\n",
    "cursor = conn.cursor()\n",
    "\n",
    "# Таблица пользователей\n",
    "cursor.execute('''\n",
    "CREATE TABLE users (\n",
    "    id INTEGER PRIMARY KEY,\n",
    "    name TEXT\n",
    ");\n",
    "''')\n",
    "# Таблица паспортов (один паспорт на пользователя)\n",
    "cursor.execute('''\n",
    "CREATE TABLE passports (\n",
    "    id INTEGER PRIMARY KEY,\n",
    "    user_id INTEGER UNIQUE,\n",
    "    passport_number TEXT,\n",
    "    FOREIGN KEY (user_id) REFERENCES users(id)\n",
    ");\n",
    "''')\n",
    "cursor.execute(\"INSERT INTO users (name) VALUES ('Анна')\")\n",
    "user_id = cursor.lastrowid\n",
    "cursor.execute(\"INSERT INTO passports (user_id, passport_number) VALUES (?, ?)\", (user_id, '1234 567890'))\n",
    "conn.commit()\n",
    "\n",
    "# Проверим связь\n",
    "cursor.execute('''\n",
    "SELECT u.name, p.passport_number FROM users u\n",
    "JOIN passports p ON u.id = p.user_id\n",
    "''')\n",
    "print(\"🧾 Пользователи и их паспорта:\")\n",
    "for row in cursor.fetchall():\n",
    "    print(row)"
   ]
  }
 ],
 "metadata": {},
 "nbformat": 4,
 "nbformat_minor": 5
}
