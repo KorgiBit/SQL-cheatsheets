{
 "cells": [
  {
   "cell_type": "markdown",
   "id": "f21647fb",
   "metadata": {},
   "source": [
    "## 6. Удаление данных (DELETE)"
   ]
  },
  {
   "cell_type": "markdown",
   "id": "72b13949",
   "metadata": {},
   "source": [
    "### 🗑️ Удаление данных (DELETE)\n",
    "\n",
    "**Постановка проблемы:**  \n",
    "Иногда нужно удалить ненужную или устаревшую информацию. Например, удалить дублирующуюся запись или книгу, которой больше нет. Для этого используется команда `DELETE`.\n",
    "\n",
    "**Краткая теория:**  \n",
    "`DELETE` удаляет строки из таблицы. Всегда стоит использовать `WHERE`, чтобы случайно не удалить всё.\n",
    "\n",
    "**Синтаксис:**\n",
    "```sql\n",
    "DELETE FROM table_name WHERE condition;\n",
    "```\n",
    "Если `WHERE` не указать, будут удалены **все** строки таблицы.\n",
    "\n",
    "**Пример:**"
   ]
  },
  {
   "cell_type": "code",
   "execution_count": null,
   "id": "90cf36b7",
   "metadata": {},
   "outputs": [],
   "source": [
    "# Удаление записей в SQLite\n",
    "import sqlite3\n",
    "\n",
    "conn = sqlite3.connect(':memory:')\n",
    "cursor = conn.cursor()\n",
    "\n",
    "# Создаём таблицу и добавляем данные\n",
    "cursor.execute('''\n",
    "CREATE TABLE books (\n",
    "    id INTEGER PRIMARY KEY,\n",
    "    title TEXT NOT NULL,\n",
    "    author TEXT,\n",
    "    year INTEGER\n",
    ");\n",
    "''')\n",
    "books = [\n",
    "    (\"1984\", \"George Orwell\", 1949),\n",
    "    (\"Brave New World\", \"Aldous Huxley\", 1932),\n",
    "    (\"Animal Farm\", \"George Orwell\", 1945)\n",
    "]\n",
    "cursor.executemany(\"INSERT INTO books (title, author, year) VALUES (?, ?, ?)\", books)\n",
    "conn.commit()\n",
    "\n",
    "# Удалим одну книгу\n",
    "cursor.execute(\"DELETE FROM books WHERE title = 'Animal Farm'\")\n",
    "conn.commit()\n",
    "\n",
    "# Проверим, что осталось\n",
    "cursor.execute(\"SELECT * FROM books\")\n",
    "print(\"📚 После удаления:\")\n",
    "for row in cursor.fetchall():\n",
    "    print(row)"
   ]
  }
 ],
 "metadata": {},
 "nbformat": 4,
 "nbformat_minor": 5
}
