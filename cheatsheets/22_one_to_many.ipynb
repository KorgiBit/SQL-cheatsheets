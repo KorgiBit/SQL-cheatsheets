{
 "cells": [
  {
   "cell_type": "markdown",
   "id": "ee99640f",
   "metadata": {},
   "source": [
    "## 22. Связи один-ко-многим"
   ]
  },
  {
   "cell_type": "markdown",
   "id": "17fb9060",
   "metadata": {},
   "source": [
    "### 🔗 Связи один-ко-многим\n",
    "\n",
    "**Постановка проблемы:**  \n",
    "Один пользователь может иметь много заказов. Один автор — много книг. Такие связи встречаются постоянно, и их нужно правильно моделировать в базе данных.\n",
    "\n",
    "**Краткая теория:**  \n",
    "Связь \"один-ко-многим\" реализуется с помощью внешнего ключа (`FOREIGN KEY`) в таблице \"многие\".\n",
    "\n",
    "- В \"дочерней\" таблице есть столбец, который ссылается на `id` из родительской таблицы\n",
    "- Это обеспечивает целостность: нельзя вставить заказ с несуществующим пользователем\n",
    "\n",
    "**Пример:**"
   ]
  },
  {
   "cell_type": "code",
   "execution_count": null,
   "id": "695652da",
   "metadata": {},
   "outputs": [],
   "source": [
    "# Связь один-ко-многим в SQLite\n",
    "import sqlite3\n",
    "conn = sqlite3.connect(':memory:')\n",
    "cursor = conn.cursor()\n",
    "\n",
    "# Таблица авторов\n",
    "cursor.execute('''\n",
    "CREATE TABLE authors (\n",
    "    id INTEGER PRIMARY KEY,\n",
    "    name TEXT\n",
    ");\n",
    "''')\n",
    "# Таблица книг (многие книги на одного автора)\n",
    "cursor.execute('''\n",
    "CREATE TABLE books (\n",
    "    id INTEGER PRIMARY KEY,\n",
    "    title TEXT,\n",
    "    author_id INTEGER,\n",
    "    FOREIGN KEY (author_id) REFERENCES authors(id)\n",
    ");\n",
    "''')\n",
    "cursor.execute(\"INSERT INTO authors (name) VALUES ('Достоевский')\")\n",
    "author_id = cursor.lastrowid\n",
    "cursor.executemany(\"INSERT INTO books (title, author_id) VALUES (?, ?)\", [\n",
    "    (\"Преступление и наказание\", author_id),\n",
    "    (\"Идиот\", author_id)\n",
    "])\n",
    "conn.commit()\n",
    "\n",
    "# Получаем книги с их автором\n",
    "cursor.execute('''\n",
    "SELECT a.name, b.title FROM authors a\n",
    "JOIN books b ON a.id = b.author_id\n",
    "''')\n",
    "print(\"📚 Авторы и их книги:\")\n",
    "for row in cursor.fetchall():\n",
    "    print(row)"
   ]
  }
 ],
 "metadata": {},
 "nbformat": 4,
 "nbformat_minor": 5
}
