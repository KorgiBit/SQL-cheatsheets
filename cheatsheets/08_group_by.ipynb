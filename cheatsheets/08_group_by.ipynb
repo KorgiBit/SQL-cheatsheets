{
 "cells": [
  {
   "cell_type": "markdown",
   "id": "21ae48cb",
   "metadata": {},
   "source": [
    "## 8. Группировка и агрегаты (GROUP BY, COUNT, AVG...)"
   ]
  },
  {
   "cell_type": "markdown",
   "id": "95d32476",
   "metadata": {},
   "source": [
    "### 📦 Группировка и агрегаты (GROUP BY, COUNT, AVG...)\n",
    "\n",
    "**Постановка проблемы:**  \n",
    "Нужно не просто вывести строки, а сгруппировать их и посчитать что-то: например, сколько книг у каждого автора, или средний год публикации. Это делается через `GROUP BY` и агрегатные функции (`COUNT`, `AVG`, `SUM`, `MIN`, `MAX`).\n",
    "\n",
    "**Краткая теория:**  \n",
    "`GROUP BY` группирует строки по значению одного или нескольких столбцов. К каждой группе можно применять агрегатные функции.\n",
    "\n",
    "**Синтаксис:**\n",
    "```sql\n",
    "SELECT column, COUNT(*) FROM table_name GROUP BY column;\n",
    "SELECT author, AVG(year) FROM books GROUP BY author;\n",
    "```\n",
    "Часто используется с `HAVING`, чтобы фильтровать группы (в отличие от `WHERE`, который фильтрует строки).\n",
    "\n",
    "**Пример:**"
   ]
  },
  {
   "cell_type": "code",
   "execution_count": null,
   "id": "987f7fe1",
   "metadata": {},
   "outputs": [],
   "source": [
    "# GROUP BY и агрегатные функции в SQLite\n",
    "import sqlite3\n",
    "\n",
    "conn = sqlite3.connect(':memory:')\n",
    "cursor = conn.cursor()\n",
    "\n",
    "# Создаём таблицу и данные\n",
    "cursor.execute('''\n",
    "CREATE TABLE books (\n",
    "    id INTEGER PRIMARY KEY,\n",
    "    title TEXT NOT NULL,\n",
    "    author TEXT,\n",
    "    year INTEGER\n",
    ");\n",
    "''')\n",
    "books = [\n",
    "    (\"1984\", \"George Orwell\", 1949),\n",
    "    (\"Animal Farm\", \"George Orwell\", 1945),\n",
    "    (\"Brave New World\", \"Aldous Huxley\", 1932),\n",
    "    (\"Island\", \"Aldous Huxley\", 1962),\n",
    "    (\"The Hobbit\", \"J.R.R. Tolkien\", 1937),\n",
    "    (\"The Silmarillion\", \"J.R.R. Tolkien\", 1977)\n",
    "]\n",
    "cursor.executemany(\"INSERT INTO books (title, author, year) VALUES (?, ?, ?)\", books)\n",
    "conn.commit()\n",
    "\n",
    "# Считаем книги по авторам\n",
    "cursor.execute(\"SELECT author, COUNT(*) FROM books GROUP BY author\")\n",
    "print(\"📚 Кол-во книг у каждого автора:\")\n",
    "for row in cursor.fetchall():\n",
    "    print(row)\n",
    "\n",
    "# Средний год публикации по авторам\n",
    "cursor.execute(\"SELECT author, AVG(year) FROM books GROUP BY author\")\n",
    "print(\"\\n📅 Средний год публикации:\")\n",
    "for row in cursor.fetchall():\n",
    "    print(row)"
   ]
  }
 ],
 "metadata": {},
 "nbformat": 4,
 "nbformat_minor": 5
}
